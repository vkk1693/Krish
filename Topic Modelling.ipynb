{
 "cells": [
  {
   "cell_type": "code",
   "execution_count": 17,
   "metadata": {},
   "outputs": [
    {
     "data": {
      "text/html": [
       "<div>\n",
       "<style scoped>\n",
       "    .dataframe tbody tr th:only-of-type {\n",
       "        vertical-align: middle;\n",
       "    }\n",
       "\n",
       "    .dataframe tbody tr th {\n",
       "        vertical-align: top;\n",
       "    }\n",
       "\n",
       "    .dataframe thead th {\n",
       "        text-align: right;\n",
       "    }\n",
       "</style>\n",
       "<table border=\"1\" class=\"dataframe\">\n",
       "  <thead>\n",
       "    <tr style=\"text-align: right;\">\n",
       "      <th></th>\n",
       "      <th>Review</th>\n",
       "    </tr>\n",
       "  </thead>\n",
       "  <tbody>\n",
       "    <tr>\n",
       "      <th>0</th>\n",
       "      <td>Great CD: My lovely Pat has one of the GREAT v...</td>\n",
       "    </tr>\n",
       "    <tr>\n",
       "      <th>1</th>\n",
       "      <td>One of the best game music soundtracks - for a...</td>\n",
       "    </tr>\n",
       "    <tr>\n",
       "      <th>2</th>\n",
       "      <td>Batteries died within a year ...: I bought thi...</td>\n",
       "    </tr>\n",
       "    <tr>\n",
       "      <th>3</th>\n",
       "      <td>works fine, but Maha Energy is better: Check o...</td>\n",
       "    </tr>\n",
       "    <tr>\n",
       "      <th>4</th>\n",
       "      <td>Great for the non-audiophile: Reviewed quite a...</td>\n",
       "    </tr>\n",
       "    <tr>\n",
       "      <th>5</th>\n",
       "      <td>DVD Player crapped out after one year: I also ...</td>\n",
       "    </tr>\n",
       "    <tr>\n",
       "      <th>6</th>\n",
       "      <td>Incorrect Disc: I love the style of this, but ...</td>\n",
       "    </tr>\n",
       "    <tr>\n",
       "      <th>7</th>\n",
       "      <td>DVD menu select problems: I cannot scroll thro...</td>\n",
       "    </tr>\n",
       "    <tr>\n",
       "      <th>8</th>\n",
       "      <td>Unique Weird Orientalia from the 1930's: Exoti...</td>\n",
       "    </tr>\n",
       "    <tr>\n",
       "      <th>9</th>\n",
       "      <td>Not an \"ultimate guide\": Firstly,I enjoyed the...</td>\n",
       "    </tr>\n",
       "    <tr>\n",
       "      <th>10</th>\n",
       "      <td>Great book for travelling Europe: I currently ...</td>\n",
       "    </tr>\n",
       "    <tr>\n",
       "      <th>11</th>\n",
       "      <td>Not!: If you want to listen to El Duke , then ...</td>\n",
       "    </tr>\n",
       "    <tr>\n",
       "      <th>12</th>\n",
       "      <td>A complete Bust: This game requires quicktime ...</td>\n",
       "    </tr>\n",
       "    <tr>\n",
       "      <th>13</th>\n",
       "      <td>TRULY MADE A DIFFERENCE!: I have been using th...</td>\n",
       "    </tr>\n",
       "    <tr>\n",
       "      <th>14</th>\n",
       "      <td>didn't run off of USB bus power: Was hoping th...</td>\n",
       "    </tr>\n",
       "  </tbody>\n",
       "</table>\n",
       "</div>"
      ],
      "text/plain": [
       "                                               Review\n",
       "0   Great CD: My lovely Pat has one of the GREAT v...\n",
       "1   One of the best game music soundtracks - for a...\n",
       "2   Batteries died within a year ...: I bought thi...\n",
       "3   works fine, but Maha Energy is better: Check o...\n",
       "4   Great for the non-audiophile: Reviewed quite a...\n",
       "5   DVD Player crapped out after one year: I also ...\n",
       "6   Incorrect Disc: I love the style of this, but ...\n",
       "7   DVD menu select problems: I cannot scroll thro...\n",
       "8   Unique Weird Orientalia from the 1930's: Exoti...\n",
       "9   Not an \"ultimate guide\": Firstly,I enjoyed the...\n",
       "10  Great book for travelling Europe: I currently ...\n",
       "11  Not!: If you want to listen to El Duke , then ...\n",
       "12  A complete Bust: This game requires quicktime ...\n",
       "13  TRULY MADE A DIFFERENCE!: I have been using th...\n",
       "14  didn't run off of USB bus power: Was hoping th..."
      ]
     },
     "execution_count": 17,
     "metadata": {},
     "output_type": "execute_result"
    }
   ],
   "source": [
    "import pandas as pd\n",
    "import spacy        \n",
    "nlp = spacy.load('en_core_web_sm', parser=False, entity=False)\n",
    "npr = pd.read_excel('Review.xlsx')\n",
    "npr.head(15)"
   ]
  },
  {
   "cell_type": "code",
   "execution_count": 18,
   "metadata": {},
   "outputs": [
    {
     "data": {
      "text/plain": [
       "'Great CD: My lovely Pat has one of the GREAT voices of her generation. I have listened to this CD for YEARS and I still LOVE IT. When I\\'m in a good mood it makes me feel better. A bad mood just evaporates like sugar in the rain. This CD just oozes LIFE. Vocals are jusat STUUNNING and lyrics just kill. One of life\\'s hidden gems. This is a desert isle CD in my book. Why she never made it big is just beyond me. Everytime I play this, no matter black, white, young, old, male, female EVERYBODY says one thing \"Who was that singing ?\"'"
      ]
     },
     "execution_count": 18,
     "metadata": {},
     "output_type": "execute_result"
    }
   ],
   "source": [
    "npr['Review'][0]"
   ]
  },
  {
   "cell_type": "code",
   "execution_count": 19,
   "metadata": {},
   "outputs": [
    {
     "data": {
      "text/plain": [
       "(400000, 1)"
      ]
     },
     "execution_count": 19,
     "metadata": {},
     "output_type": "execute_result"
    }
   ],
   "source": [
    "npr.shape"
   ]
  },
  {
   "cell_type": "code",
   "execution_count": 20,
   "metadata": {},
   "outputs": [
    {
     "data": {
      "text/plain": [
       "2"
      ]
     },
     "execution_count": 20,
     "metadata": {},
     "output_type": "execute_result"
    }
   ],
   "source": [
    "npr.isnull().sum().sum()"
   ]
  },
  {
   "cell_type": "code",
   "execution_count": 2,
   "metadata": {},
   "outputs": [],
   "source": [
    "npr['rev']=npr['Review']\n",
    "npr['Review'] = npr.Review.str.replace(\"[^\\w\\s]\", \"\")\n",
    "npr['Review']=npr['Review'].str.lower() \n",
    "npr = npr[npr['Review'].notnull()]"
   ]
  },
  {
   "cell_type": "code",
   "execution_count": 3,
   "metadata": {},
   "outputs": [],
   "source": [
    "stopwords=pd.read_csv('stop words.csv')\n",
    "customize_stop_words=stopwords['stop_words'].to_list()"
   ]
  },
  {
   "cell_type": "code",
   "execution_count": 4,
   "metadata": {},
   "outputs": [],
   "source": [
    "for w in customize_stop_words:\n",
    "    nlp.vocab[w].is_stop = True\n",
    "    nlp.Defaults.stop_words.add(w)"
   ]
  },
  {
   "cell_type": "code",
   "execution_count": 5,
   "metadata": {},
   "outputs": [],
   "source": [
    "new_words=nlp.Defaults.stop_words\n",
    "n=list(new_words)\n",
    "npr['Review'] = npr['Review'].apply(lambda x: ' '.join([item for item in x.split() if item not in n]))"
   ]
  },
  {
   "cell_type": "code",
   "execution_count": 6,
   "metadata": {},
   "outputs": [],
   "source": [
    "from sklearn.feature_extraction.text import CountVectorizer\n",
    "cv = CountVectorizer(max_df=0.99, min_df=1, stop_words='english')\n",
    "dtm = cv.fit_transform(npr['Review'].values.astype('U'))"
   ]
  },
  {
   "cell_type": "code",
   "execution_count": 7,
   "metadata": {},
   "outputs": [
    {
     "data": {
      "text/plain": [
       "LatentDirichletAllocation(batch_size=128, doc_topic_prior=None,\n",
       "                          evaluate_every=-1, learning_decay=0.7,\n",
       "                          learning_method='batch', learning_offset=10.0,\n",
       "                          max_doc_update_iter=100, max_iter=10,\n",
       "                          mean_change_tol=0.001, n_components=7, n_jobs=None,\n",
       "                          perp_tol=0.1, random_state=42, topic_word_prior=None,\n",
       "                          total_samples=1000000.0, verbose=0)"
      ]
     },
     "execution_count": 7,
     "metadata": {},
     "output_type": "execute_result"
    }
   ],
   "source": [
    "from sklearn.decomposition import LatentDirichletAllocation\n",
    "LDA = LatentDirichletAllocation(n_components=7,random_state=42)\n",
    "LDA.fit(dtm)"
   ]
  },
  {
   "cell_type": "code",
   "execution_count": 8,
   "metadata": {},
   "outputs": [
    {
     "data": {
      "text/plain": [
       "array([[0.14355628, 0.14306587, 0.14317679, ..., 1.14266419, 0.14285733,\n",
       "        0.14285717],\n",
       "       [0.14313468, 2.9706906 , 0.14285716, ..., 0.14288192, 1.14017671,\n",
       "        0.14285715],\n",
       "       [4.48824867, 5.77251538, 0.1429464 , ..., 0.14285715, 0.14508248,\n",
       "        0.14303139],\n",
       "       ...,\n",
       "       [5.62693544, 4.28122508, 0.14312471, ..., 0.14285716, 0.1432022 ,\n",
       "        0.14285716],\n",
       "       [6.03001485, 4.31102477, 4.63128529, ..., 0.14285716, 0.14296691,\n",
       "        0.14285716],\n",
       "       [0.14345111, 0.14332619, 0.14285717, ..., 0.14285715, 0.14285719,\n",
       "        1.14268282]])"
      ]
     },
     "execution_count": 8,
     "metadata": {},
     "output_type": "execute_result"
    }
   ],
   "source": [
    "LDA.components_"
   ]
  },
  {
   "cell_type": "code",
   "execution_count": 9,
   "metadata": {},
   "outputs": [
    {
     "name": "stdout",
     "output_type": "stream",
     "text": [
      "THE TOP 10 WORDS FOR TOPIC #0\n",
      "['diet', 'flavor', 'lens', 'cats', 'eat', 'dogs', 'food', 'cat', 'taste', 'dog']\n",
      "\n",
      "\n",
      "THE TOP 10 WORDS FOR TOPIC #1\n",
      "['writing', 'characters', 'written', 'life', 'author', 'reading', 'story', 'books', 'read', 'book']\n",
      "\n",
      "\n",
      "THE TOP 10 WORDS FOR TOPIC #2\n",
      "['rock', 'heard', 'listen', 'band', 'sound', 'song', 'songs', 'music', 'album', 'cd']\n",
      "\n",
      "\n",
      "THE TOP 10 WORDS FOR TOPIC #3\n",
      "['came', 'looks', 'order', 'looking', 'disappointed', 'toy', 'box', 'purchase', 'plastic', 'water']\n",
      "\n",
      "\n",
      "THE TOP 10 WORDS FOR TOPIC #4\n",
      "['graphics', 'card', 'sound', 'software', 'computer', 'dvd', 'games', 'player', 'play', 'game']\n",
      "\n",
      "\n",
      "THE TOP 10 WORDS FOR TOPIC #5\n",
      "['printer', 'tv', 'working', 'power', 'sound', 'batteries', 'cable', 'camera', 'battery', 'phone']\n",
      "\n",
      "\n",
      "THE TOP 10 WORDS FOR TOPIC #6\n",
      "['plot', 'watching', 'funny', 'series', 'story', 'movies', 'watch', 'dvd', 'film', 'movie']\n",
      "\n",
      "\n"
     ]
    }
   ],
   "source": [
    "for index,topic in enumerate(LDA.components_):\n",
    "    print(f'THE TOP 10 WORDS FOR TOPIC #{index}')\n",
    "    print([cv.get_feature_names()[i] for i in topic.argsort()[-10:]])\n",
    "    print('\\n')"
   ]
  },
  {
   "cell_type": "code",
   "execution_count": 10,
   "metadata": {},
   "outputs": [],
   "source": [
    "topic_results = LDA.transform(dtm)\n",
    "npr['Topic'] = topic_results.argmax(axis=1)"
   ]
  },
  {
   "cell_type": "code",
   "execution_count": 11,
   "metadata": {},
   "outputs": [
    {
     "data": {
      "text/html": [
       "<div>\n",
       "<style scoped>\n",
       "    .dataframe tbody tr th:only-of-type {\n",
       "        vertical-align: middle;\n",
       "    }\n",
       "\n",
       "    .dataframe tbody tr th {\n",
       "        vertical-align: top;\n",
       "    }\n",
       "\n",
       "    .dataframe thead th {\n",
       "        text-align: right;\n",
       "    }\n",
       "</style>\n",
       "<table border=\"1\" class=\"dataframe\">\n",
       "  <thead>\n",
       "    <tr style=\"text-align: right;\">\n",
       "      <th></th>\n",
       "      <th>Review</th>\n",
       "      <th>rev</th>\n",
       "      <th>Topic</th>\n",
       "      <th>Label</th>\n",
       "    </tr>\n",
       "  </thead>\n",
       "  <tbody>\n",
       "    <tr>\n",
       "      <th>0</th>\n",
       "      <td>cd lovely pat voices generation listened cd mo...</td>\n",
       "      <td>Great CD: My lovely Pat has one of the GREAT v...</td>\n",
       "      <td>2</td>\n",
       "      <td>Music</td>\n",
       "    </tr>\n",
       "    <tr>\n",
       "      <th>1</th>\n",
       "      <td>game music soundtracks game play despite fact ...</td>\n",
       "      <td>One of the best game music soundtracks - for a...</td>\n",
       "      <td>2</td>\n",
       "      <td>Music</td>\n",
       "    </tr>\n",
       "    <tr>\n",
       "      <th>2</th>\n",
       "      <td>batteries died charger jul 2003 ok design conv...</td>\n",
       "      <td>Batteries died within a year ...: I bought thi...</td>\n",
       "      <td>5</td>\n",
       "      <td>Electronic Items</td>\n",
       "    </tr>\n",
       "    <tr>\n",
       "      <th>3</th>\n",
       "      <td>fine maha energy check maha energys website po...</td>\n",
       "      <td>works fine, but Maha Energy is better: Check o...</td>\n",
       "      <td>5</td>\n",
       "      <td>Electronic Items</td>\n",
       "    </tr>\n",
       "    <tr>\n",
       "      <th>4</th>\n",
       "      <td>nonaudiophile reviewed bit combo players hesit...</td>\n",
       "      <td>Great for the non-audiophile: Reviewed quite a...</td>\n",
       "      <td>5</td>\n",
       "      <td>Electronic Items</td>\n",
       "    </tr>\n",
       "    <tr>\n",
       "      <th>5</th>\n",
       "      <td>dvd player crapped began having incorrect disc...</td>\n",
       "      <td>DVD Player crapped out after one year: I also ...</td>\n",
       "      <td>4</td>\n",
       "      <td>PC, PS Games/ Software/ CD, DVD</td>\n",
       "    </tr>\n",
       "    <tr>\n",
       "      <th>6</th>\n",
       "      <td>incorrect disc style couple dvd giving problem...</td>\n",
       "      <td>Incorrect Disc: I love the style of this, but ...</td>\n",
       "      <td>4</td>\n",
       "      <td>PC, PS Games/ Software/ CD, DVD</td>\n",
       "    </tr>\n",
       "    <tr>\n",
       "      <th>7</th>\n",
       "      <td>dvd menu select problems scroll dvd menu verti...</td>\n",
       "      <td>DVD menu select problems: I cannot scroll thro...</td>\n",
       "      <td>4</td>\n",
       "      <td>PC, PS Games/ Software/ CD, DVD</td>\n",
       "    </tr>\n",
       "    <tr>\n",
       "      <th>8</th>\n",
       "      <td>unique weird orientalia 1930s exotic tales ori...</td>\n",
       "      <td>Unique Weird Orientalia from the 1930's: Exoti...</td>\n",
       "      <td>1</td>\n",
       "      <td>Books</td>\n",
       "    </tr>\n",
       "    <tr>\n",
       "      <th>9</th>\n",
       "      <td>ultimate guide firstlyi enjoyed format tone bo...</td>\n",
       "      <td>Not an \"ultimate guide\": Firstly,I enjoyed the...</td>\n",
       "      <td>1</td>\n",
       "      <td>Books</td>\n",
       "    </tr>\n",
       "    <tr>\n",
       "      <th>10</th>\n",
       "      <td>book travelling europe currently live europe b...</td>\n",
       "      <td>Great book for travelling Europe: I currently ...</td>\n",
       "      <td>1</td>\n",
       "      <td>Books</td>\n",
       "    </tr>\n",
       "    <tr>\n",
       "      <th>11</th>\n",
       "      <td>listen el duke access showerthis gimmickvery o...</td>\n",
       "      <td>Not!: If you want to listen to El Duke , then ...</td>\n",
       "      <td>2</td>\n",
       "      <td>Music</td>\n",
       "    </tr>\n",
       "    <tr>\n",
       "      <th>12</th>\n",
       "      <td>complete bust game requires quicktime 50 worki...</td>\n",
       "      <td>A complete Bust: This game requires quicktime ...</td>\n",
       "      <td>4</td>\n",
       "      <td>PC, PS Games/ Software/ CD, DVD</td>\n",
       "    </tr>\n",
       "    <tr>\n",
       "      <th>13</th>\n",
       "      <td>truly difference couple started hair gotten dr...</td>\n",
       "      <td>TRULY MADE A DIFFERENCE!: I have been using th...</td>\n",
       "      <td>3</td>\n",
       "      <td>Toys/ Kid Products/ Plastic Items</td>\n",
       "    </tr>\n",
       "    <tr>\n",
       "      <th>14</th>\n",
       "      <td>run usb bus power hoping drive run bus power r...</td>\n",
       "      <td>didn't run off of USB bus power: Was hoping th...</td>\n",
       "      <td>5</td>\n",
       "      <td>Electronic Items</td>\n",
       "    </tr>\n",
       "    <tr>\n",
       "      <th>15</th>\n",
       "      <td>company took sent email telling shipped week h...</td>\n",
       "      <td>Don't buy!: First of all, the company took my ...</td>\n",
       "      <td>5</td>\n",
       "      <td>Electronic Items</td>\n",
       "    </tr>\n",
       "    <tr>\n",
       "      <th>16</th>\n",
       "      <td>simple durable game ages awesome game tictacto...</td>\n",
       "      <td>Simple, Durable, Fun game for all ages: This i...</td>\n",
       "      <td>4</td>\n",
       "      <td>PC, PS Games/ Software/ CD, DVD</td>\n",
       "    </tr>\n",
       "    <tr>\n",
       "      <th>17</th>\n",
       "      <td>review kelly club toddlers 799 pc game graphic...</td>\n",
       "      <td>Review of Kelly Club for Toddlers: For the pri...</td>\n",
       "      <td>4</td>\n",
       "      <td>PC, PS Games/ Software/ CD, DVD</td>\n",
       "    </tr>\n",
       "    <tr>\n",
       "      <th>18</th>\n",
       "      <td>soy un apasionado del box y este libro está es...</td>\n",
       "      <td>SOY UN APASIONADO DEL BOX: Y ESTE LIBRO ESTÁ E...</td>\n",
       "      <td>4</td>\n",
       "      <td>PC, PS Games/ Software/ CD, DVD</td>\n",
       "    </tr>\n",
       "    <tr>\n",
       "      <th>19</th>\n",
       "      <td>fiddle playing heard album fiddle playing ryan...</td>\n",
       "      <td>Some of the best fiddle playing I have heard i...</td>\n",
       "      <td>2</td>\n",
       "      <td>Music</td>\n",
       "    </tr>\n",
       "  </tbody>\n",
       "</table>\n",
       "</div>"
      ],
      "text/plain": [
       "                                               Review  \\\n",
       "0   cd lovely pat voices generation listened cd mo...   \n",
       "1   game music soundtracks game play despite fact ...   \n",
       "2   batteries died charger jul 2003 ok design conv...   \n",
       "3   fine maha energy check maha energys website po...   \n",
       "4   nonaudiophile reviewed bit combo players hesit...   \n",
       "5   dvd player crapped began having incorrect disc...   \n",
       "6   incorrect disc style couple dvd giving problem...   \n",
       "7   dvd menu select problems scroll dvd menu verti...   \n",
       "8   unique weird orientalia 1930s exotic tales ori...   \n",
       "9   ultimate guide firstlyi enjoyed format tone bo...   \n",
       "10  book travelling europe currently live europe b...   \n",
       "11  listen el duke access showerthis gimmickvery o...   \n",
       "12  complete bust game requires quicktime 50 worki...   \n",
       "13  truly difference couple started hair gotten dr...   \n",
       "14  run usb bus power hoping drive run bus power r...   \n",
       "15  company took sent email telling shipped week h...   \n",
       "16  simple durable game ages awesome game tictacto...   \n",
       "17  review kelly club toddlers 799 pc game graphic...   \n",
       "18  soy un apasionado del box y este libro está es...   \n",
       "19  fiddle playing heard album fiddle playing ryan...   \n",
       "\n",
       "                                                  rev  Topic  \\\n",
       "0   Great CD: My lovely Pat has one of the GREAT v...      2   \n",
       "1   One of the best game music soundtracks - for a...      2   \n",
       "2   Batteries died within a year ...: I bought thi...      5   \n",
       "3   works fine, but Maha Energy is better: Check o...      5   \n",
       "4   Great for the non-audiophile: Reviewed quite a...      5   \n",
       "5   DVD Player crapped out after one year: I also ...      4   \n",
       "6   Incorrect Disc: I love the style of this, but ...      4   \n",
       "7   DVD menu select problems: I cannot scroll thro...      4   \n",
       "8   Unique Weird Orientalia from the 1930's: Exoti...      1   \n",
       "9   Not an \"ultimate guide\": Firstly,I enjoyed the...      1   \n",
       "10  Great book for travelling Europe: I currently ...      1   \n",
       "11  Not!: If you want to listen to El Duke , then ...      2   \n",
       "12  A complete Bust: This game requires quicktime ...      4   \n",
       "13  TRULY MADE A DIFFERENCE!: I have been using th...      3   \n",
       "14  didn't run off of USB bus power: Was hoping th...      5   \n",
       "15  Don't buy!: First of all, the company took my ...      5   \n",
       "16  Simple, Durable, Fun game for all ages: This i...      4   \n",
       "17  Review of Kelly Club for Toddlers: For the pri...      4   \n",
       "18  SOY UN APASIONADO DEL BOX: Y ESTE LIBRO ESTÁ E...      4   \n",
       "19  Some of the best fiddle playing I have heard i...      2   \n",
       "\n",
       "                                Label  \n",
       "0                               Music  \n",
       "1                               Music  \n",
       "2                    Electronic Items  \n",
       "3                    Electronic Items  \n",
       "4                    Electronic Items  \n",
       "5     PC, PS Games/ Software/ CD, DVD  \n",
       "6     PC, PS Games/ Software/ CD, DVD  \n",
       "7     PC, PS Games/ Software/ CD, DVD  \n",
       "8                               Books  \n",
       "9                               Books  \n",
       "10                              Books  \n",
       "11                              Music  \n",
       "12    PC, PS Games/ Software/ CD, DVD  \n",
       "13  Toys/ Kid Products/ Plastic Items  \n",
       "14                   Electronic Items  \n",
       "15                   Electronic Items  \n",
       "16    PC, PS Games/ Software/ CD, DVD  \n",
       "17    PC, PS Games/ Software/ CD, DVD  \n",
       "18    PC, PS Games/ Software/ CD, DVD  \n",
       "19                              Music  "
      ]
     },
     "execution_count": 11,
     "metadata": {},
     "output_type": "execute_result"
    }
   ],
   "source": [
    "my_dict={0:'Pets/ Food/ Skin Care',1:'Books',2:'Music',3:'Toys/ Kid Products/ Plastic Items',4:'PC, PS Games/ Software/ CD, DVD',5:'Electronic Items',6:'Movie/ TV Series/ Fiction Novels/ Comics'}\n",
    "npr['Label']=npr['Topic'].map(my_dict)\n",
    "npr.head(20)"
   ]
  },
  {
   "cell_type": "code",
   "execution_count": 12,
   "metadata": {},
   "outputs": [
    {
     "data": {
      "text/html": [
       "<div>\n",
       "<style scoped>\n",
       "    .dataframe tbody tr th:only-of-type {\n",
       "        vertical-align: middle;\n",
       "    }\n",
       "\n",
       "    .dataframe tbody tr th {\n",
       "        vertical-align: top;\n",
       "    }\n",
       "\n",
       "    .dataframe thead th {\n",
       "        text-align: right;\n",
       "    }\n",
       "</style>\n",
       "<table border=\"1\" class=\"dataframe\">\n",
       "  <thead>\n",
       "    <tr style=\"text-align: right;\">\n",
       "      <th></th>\n",
       "      <th>Review</th>\n",
       "    </tr>\n",
       "    <tr>\n",
       "      <th>Label</th>\n",
       "      <th></th>\n",
       "    </tr>\n",
       "  </thead>\n",
       "  <tbody>\n",
       "    <tr>\n",
       "      <th>Books</th>\n",
       "      <td>121076</td>\n",
       "    </tr>\n",
       "    <tr>\n",
       "      <th>Toys/ Kid Products/ Plastic Items</th>\n",
       "      <td>103051</td>\n",
       "    </tr>\n",
       "    <tr>\n",
       "      <th>Movie/ TV Series/ Fiction Novels/ Comics</th>\n",
       "      <td>58030</td>\n",
       "    </tr>\n",
       "    <tr>\n",
       "      <th>Music</th>\n",
       "      <td>56677</td>\n",
       "    </tr>\n",
       "    <tr>\n",
       "      <th>Electronic Items</th>\n",
       "      <td>30758</td>\n",
       "    </tr>\n",
       "    <tr>\n",
       "      <th>PC, PS Games/ Software/ CD, DVD</th>\n",
       "      <td>23013</td>\n",
       "    </tr>\n",
       "    <tr>\n",
       "      <th>Pets/ Food/ Skin Care</th>\n",
       "      <td>7393</td>\n",
       "    </tr>\n",
       "  </tbody>\n",
       "</table>\n",
       "</div>"
      ],
      "text/plain": [
       "                                          Review\n",
       "Label                                           \n",
       "Books                                     121076\n",
       "Toys/ Kid Products/ Plastic Items         103051\n",
       "Movie/ TV Series/ Fiction Novels/ Comics   58030\n",
       "Music                                      56677\n",
       "Electronic Items                           30758\n",
       "PC, PS Games/ Software/ CD, DVD            23013\n",
       "Pets/ Food/ Skin Care                       7393"
      ]
     },
     "execution_count": 12,
     "metadata": {},
     "output_type": "execute_result"
    }
   ],
   "source": [
    "npr.groupby('Label').count()[['Review']].sort_values(by=['Review'],ascending=False)"
   ]
  },
  {
   "cell_type": "code",
   "execution_count": 44,
   "metadata": {},
   "outputs": [],
   "source": [
    "New=npr[['rev','Label']]\n",
    "New.to_csv('output.csv',index=False)"
   ]
  },
  {
   "cell_type": "code",
   "execution_count": null,
   "metadata": {},
   "outputs": [],
   "source": []
  }
 ],
 "metadata": {
  "kernelspec": {
   "display_name": "Python 3",
   "language": "python",
   "name": "python3"
  },
  "language_info": {
   "codemirror_mode": {
    "name": "ipython",
    "version": 3
   },
   "file_extension": ".py",
   "mimetype": "text/x-python",
   "name": "python",
   "nbconvert_exporter": "python",
   "pygments_lexer": "ipython3",
   "version": "3.7.6"
  }
 },
 "nbformat": 4,
 "nbformat_minor": 4
}
